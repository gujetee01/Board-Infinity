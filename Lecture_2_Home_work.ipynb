{
  "nbformat": 4,
  "nbformat_minor": 0,
  "metadata": {
    "colab": {
      "name": "Lecture 2 Home work.ipynb",
      "provenance": [],
      "authorship_tag": "ABX9TyMnVq2VBuanlWsC3pPMkZ3c",
      "include_colab_link": true
    },
    "kernelspec": {
      "name": "python3",
      "display_name": "Python 3"
    }
  },
  "cells": [
    {
      "cell_type": "markdown",
      "metadata": {
        "id": "view-in-github",
        "colab_type": "text"
      },
      "source": [
        "<a href=\"https://colab.research.google.com/github/gujetee01/Board-Infinity/blob/master/Lecture_2_Home_work.ipynb\" target=\"_parent\"><img src=\"https://colab.research.google.com/assets/colab-badge.svg\" alt=\"Open In Colab\"/></a>"
      ]
    },
    {
      "cell_type": "code",
      "metadata": {
        "id": "T5_h7UeX25z-",
        "colab_type": "code",
        "colab": {
          "base_uri": "https://localhost:8080/",
          "height": 51
        },
        "outputId": "8eb7bd56-9615-4d1f-f374-1ad55eaab04c"
      },
      "source": [
        "age=int(input(\"Enter your Age=:\" ))\n",
        "if age > 18:\n",
        "  print(\" He is Adult\")\n",
        "else:\n",
        "  print(\"He is Teenager\")"
      ],
      "execution_count": 9,
      "outputs": [
        {
          "output_type": "stream",
          "text": [
            "Enter your Age=:18\n",
            "He is Teenager\n"
          ],
          "name": "stdout"
        }
      ]
    },
    {
      "cell_type": "code",
      "metadata": {
        "id": "GNQVzZMs3dY_",
        "colab_type": "code",
        "colab": {
          "base_uri": "https://localhost:8080/",
          "height": 68
        },
        "outputId": "02e5bffc-bbf8-4227-9a24-51f89f7d3377"
      },
      "source": [
        "\n",
        "income = int(input(\"enter Monthly Income : \"))\n",
        "loan=input(\"have any Ongoing loan mention in yes or no  \")\n",
        "\n",
        "\n",
        "\n",
        "if loan == \"yes\" or loan == \"no\" or loan == \"Yes\" or loan == \"No\":\n",
        "    if income >= 100000:\n",
        "        if loan == \"no\":\n",
        "           print(\"loan is approved\")\n",
        "        else :\n",
        "           print(\"loan is rejected\")\n",
        "    else:\n",
        "        print(\"loan is rejected\")\n",
        "        \n",
        "else:\n",
        "  print(\"kindly input in yes or no\")"
      ],
      "execution_count": 25,
      "outputs": [
        {
          "output_type": "stream",
          "text": [
            "enter Monthly Income : 200000\n",
            "have any Ongoing loan mention in yes or no  yes\n",
            "loan is rejected\n"
          ],
          "name": "stdout"
        }
      ]
    },
    {
      "cell_type": "code",
      "metadata": {
        "id": "M57xANJY-A_7",
        "colab_type": "code",
        "colab": {
          "base_uri": "https://localhost:8080/",
          "height": 51
        },
        "outputId": "5d139582-f938-4f3c-fcad-36c54fb74cea"
      },
      "source": [
        "sex=input(\"enter your sex male Or female \")\n",
        "if sex==\"male\" or sex==\"female\" or sex==\"Female\" or sex==\"Male\" or sex==\"MALE\" or sex==\"FEMALE\":\n",
        "  if(sex==\"male\"):\n",
        "    print(\"your Male\")\n",
        "  else:\n",
        "    print(\"your Female\")  \n",
        "else:\n",
        "  print(\"kindly Enter male or female\")    "
      ],
      "execution_count": 31,
      "outputs": [
        {
          "output_type": "stream",
          "text": [
            "enter your sex male Or female female\n",
            "your Female\n"
          ],
          "name": "stdout"
        }
      ]
    },
    {
      "cell_type": "code",
      "metadata": {
        "id": "TTSRmj-fDLpp",
        "colab_type": "code",
        "colab": {
          "base_uri": "https://localhost:8080/",
          "height": 187
        },
        "outputId": "1f45f6a7-2f64-4174-e8ab-afcf743932a5"
      },
      "source": [
        "\n",
        "count=0\n",
        "num=[2,12,34,56,75,43,23,76,87,98]\n",
        "for i in num:\n",
        "  count=count+1\n",
        "  print( count,\"number is\", i)\n"
      ],
      "execution_count": 35,
      "outputs": [
        {
          "output_type": "stream",
          "text": [
            "1 number is 2\n",
            "2 number is 12\n",
            "3 number is 34\n",
            "4 number is 56\n",
            "5 number is 75\n",
            "6 number is 43\n",
            "7 number is 23\n",
            "8 number is 76\n",
            "9 number is 87\n",
            "10 number is 98\n"
          ],
          "name": "stdout"
        }
      ]
    },
    {
      "cell_type": "code",
      "metadata": {
        "id": "FEzpMdDiEAwn",
        "colab_type": "code",
        "colab": {
          "base_uri": "https://localhost:8080/",
          "height": 119
        },
        "outputId": "eadd1458-9a34-425e-a12e-40687c1229b8"
      },
      "source": [
        "num=[2,12,34,56,75,43,23,76,87,98]\n",
        "for i in num:\n",
        "   if i%2==0:\n",
        "     print(i,\"number is even\")  "
      ],
      "execution_count": 39,
      "outputs": [
        {
          "output_type": "stream",
          "text": [
            "2 number is even\n",
            "12 number is even\n",
            "34 number is even\n",
            "56 number is even\n",
            "76 number is even\n",
            "98 number is even\n"
          ],
          "name": "stdout"
        }
      ]
    },
    {
      "cell_type": "code",
      "metadata": {
        "id": "MtiP29hAGk3h",
        "colab_type": "code",
        "colab": {
          "base_uri": "https://localhost:8080/",
          "height": 85
        },
        "outputId": "1c852e8c-c11a-48a9-90d3-95452bce30b9"
      },
      "source": [
        "#name={1:\"nilesh\",2:\"haresh\",3:\"mukesh\",4:\"ankita\",5:\"mahendra\"}\n",
        "#print(name)\n",
        "#age={10:27,6:30,7:27,8:28,9:32}\n",
        "#print(age)\n",
        "#gender={11:\"male\",12:\"male\",13:\"male\",14:\"Female\",15:\"male\"}\n",
        "#print(gender)\n",
        "#favourite_food={21:\"tomato\",22:\"cucumber\",23:\"chicken\",24:\"chinese\",25:\"maggi\"}\n",
        "#print(favourite_food)\n",
        "\n",
        "myself={1:\"name\",2:\"age\",3:\"gender\",4:\"favourite_food\"}\n",
        "count=0\n",
        "for i in myself.keys():\n",
        "  print(i)"
      ],
      "execution_count": 59,
      "outputs": [
        {
          "output_type": "stream",
          "text": [
            "1\n",
            "2\n",
            "3\n",
            "4\n"
          ],
          "name": "stdout"
        }
      ]
    },
    {
      "cell_type": "code",
      "metadata": {
        "id": "y-7MQqn2M4NC",
        "colab_type": "code",
        "colab": {
          "base_uri": "https://localhost:8080/",
          "height": 85
        },
        "outputId": "15c3f21a-4f70-4777-9f63-5d43c32f9dd4"
      },
      "source": [
        "myself={1:\"name\",2:\"age\",3:\"gender\",4:\"favourite_food\"}\n",
        "count=0\n",
        "for i in myself.values():\n",
        "  print(i)"
      ],
      "execution_count": 60,
      "outputs": [
        {
          "output_type": "stream",
          "text": [
            "name\n",
            "age\n",
            "gender\n",
            "favourite_food\n"
          ],
          "name": "stdout"
        }
      ]
    },
    {
      "cell_type": "code",
      "metadata": {
        "id": "thZPd95-Wi9c",
        "colab_type": "code",
        "colab": {
          "base_uri": "https://localhost:8080/",
          "height": 51
        },
        "outputId": "812da3c8-f3c0-47cb-da6a-7e188f70dced"
      },
      "source": [
        "def name():\n",
        "  name=input(\"write your personal name \")\n",
        "  return(name)\n",
        "\n",
        "\n",
        "print(name())"
      ],
      "execution_count": 66,
      "outputs": [
        {
          "output_type": "stream",
          "text": [
            "write your personal name nilesh gujetee\n",
            "nilesh gujetee\n"
          ],
          "name": "stdout"
        }
      ]
    },
    {
      "cell_type": "code",
      "metadata": {
        "id": "PAqVipO4w0Pm",
        "colab_type": "code",
        "colab": {
          "base_uri": "https://localhost:8080/",
          "height": 153
        },
        "outputId": "f999f832-8e9a-4002-e231-c230174d230f"
      },
      "source": [
        "def called(): # function called\n",
        "  n=int(input(\"enter number of values you want to enter\")) # it takes inputs for how many items you want in dictionary\n",
        "  keyva={} # blank dictionary to tell systems that it is a dictionary\n",
        "\n",
        "  for i in range(n):\n",
        "    k=input(\"input the index value you want to refer\")\n",
        "    v=input(\"input the values \")\n",
        "    keyva[k]=v\n",
        "  print(keyva.keys())\n",
        "\n",
        "\n",
        "#calling function\n",
        "called()"
      ],
      "execution_count": 84,
      "outputs": [
        {
          "output_type": "stream",
          "text": [
            "enter number of values you want to enter3\n",
            "input the index value you want to refernilesh\n",
            "input the values gujetee\n",
            "input the index value you want to referharesh \n",
            "input the values gujetee\n",
            "input the index value you want to refermukesh\n",
            "input the values amballa\n",
            "dict_keys(['nilesh', 'haresh ', 'mukesh'])\n"
          ],
          "name": "stdout"
        }
      ]
    },
    {
      "cell_type": "code",
      "metadata": {
        "id": "wjtA6Q-P_7X2",
        "colab_type": "code",
        "colab": {
          "base_uri": "https://localhost:8080/",
          "height": 289
        },
        "outputId": "ac080856-b537-4fb2-ab24-6517ca1d39f5"
      },
      "source": [
        "def odd():\n",
        "\n",
        "  n=10\n",
        "  \n",
        "  l=[]\n",
        "  \n",
        "\n",
        "\n",
        "  for i in range(n):\n",
        "        numb=int(input(\"enter a value\"))\n",
        "        l.append(numb)\n",
        "  for i in range(n):\n",
        "    if l[i]%2!=0:\n",
        "      print(l[i], \" it is odd\")\n",
        "\n",
        "\n",
        "\n",
        "\n",
        "odd()"
      ],
      "execution_count": 126,
      "outputs": [
        {
          "output_type": "stream",
          "text": [
            "enter a value21\n",
            "enter a value54\n",
            "enter a value65\n",
            "enter a value76\n",
            "enter a value87\n",
            "enter a value98\n",
            "enter a value87\n",
            "enter a value54\n",
            "enter a value43\n",
            "enter a value43\n",
            "21  it is odd\n",
            "65  it is odd\n",
            "87  it is odd\n",
            "87  it is odd\n",
            "43  it is odd\n",
            "43  it is odd\n"
          ],
          "name": "stdout"
        }
      ]
    },
    {
      "cell_type": "code",
      "metadata": {
        "id": "BBnBMSRcCOjx",
        "colab_type": "code",
        "colab": {
          "base_uri": "https://localhost:8080/",
          "height": 153
        },
        "outputId": "9ccdebc9-5da5-4bdd-a314-2ef7c8e8b371"
      },
      "source": [
        "i = 10\n",
        "b=True\n",
        "f=10.22\n",
        "s=\"nilesh\"\n",
        "s1=\"10\"\n",
        "print(type(i))\n",
        "print(type(b))\n",
        "print(type(f))\n",
        "print(type(s))\n",
        "print(type(s1))\n",
        "#1. integer to float\n",
        "print(type(float(i)))\n",
        "#print(type(int(s))) cant be converted because of string of character but a value can be converted as seen below\n",
        "#2. string to integer\n",
        "print(type(int(s1)))\n",
        "#3. integer to string\n",
        "#print(type(str(i)))\n",
        "#4. bool to string\n",
        "print(type(str(b)))\n"
      ],
      "execution_count": 135,
      "outputs": [
        {
          "output_type": "stream",
          "text": [
            "<class 'int'>\n",
            "<class 'bool'>\n",
            "<class 'float'>\n",
            "<class 'str'>\n",
            "<class 'str'>\n",
            "<class 'float'>\n",
            "<class 'int'>\n",
            "<class 'str'>\n"
          ],
          "name": "stdout"
        }
      ]
    },
    {
      "cell_type": "code",
      "metadata": {
        "id": "F9y8X7atdS19",
        "colab_type": "code",
        "colab": {
          "base_uri": "https://localhost:8080/",
          "height": 102
        },
        "outputId": "972f23a1-698f-4920-cdab-f517ba3d5511"
      },
      "source": [
        "!pip install sklearn"
      ],
      "execution_count": 139,
      "outputs": [
        {
          "output_type": "stream",
          "text": [
            "Requirement already satisfied: sklearn in /usr/local/lib/python3.6/dist-packages (0.0)\n",
            "Requirement already satisfied: scikit-learn in /usr/local/lib/python3.6/dist-packages (from sklearn) (0.22.2.post1)\n",
            "Requirement already satisfied: numpy>=1.11.0 in /usr/local/lib/python3.6/dist-packages (from scikit-learn->sklearn) (1.18.3)\n",
            "Requirement already satisfied: joblib>=0.11 in /usr/local/lib/python3.6/dist-packages (from scikit-learn->sklearn) (0.14.1)\n",
            "Requirement already satisfied: scipy>=0.17.0 in /usr/local/lib/python3.6/dist-packages (from scikit-learn->sklearn) (1.4.1)\n"
          ],
          "name": "stdout"
        }
      ]
    },
    {
      "cell_type": "code",
      "metadata": {
        "id": "u0J25AuIMGFc",
        "colab_type": "code",
        "colab": {}
      },
      "source": [
        "from sklearn.ensemble import RandomForestRegressor"
      ],
      "execution_count": 0,
      "outputs": []
    },
    {
      "cell_type": "code",
      "metadata": {
        "id": "vEYoeEdRcpPp",
        "colab_type": "code",
        "colab": {}
      },
      "source": [
        "from sklearn.naive_bayes import GaussianNB"
      ],
      "execution_count": 0,
      "outputs": []
    },
    {
      "cell_type": "code",
      "metadata": {
        "id": "K4tbXEY8c5aG",
        "colab_type": "code",
        "colab": {}
      },
      "source": [
        "from sklearn import tree"
      ],
      "execution_count": 0,
      "outputs": []
    },
    {
      "cell_type": "code",
      "metadata": {
        "id": "70s14yxNdLb7",
        "colab_type": "code",
        "colab": {}
      },
      "source": [
        "from sklearn.linear_model import LinearRegression"
      ],
      "execution_count": 0,
      "outputs": []
    },
    {
      "cell_type": "code",
      "metadata": {
        "id": "XIG5dOKVdvCo",
        "colab_type": "code",
        "colab": {}
      },
      "source": [
        "from sklearn.cluster import KMeans"
      ],
      "execution_count": 0,
      "outputs": []
    },
    {
      "cell_type": "code",
      "metadata": {
        "id": "TNWpqb2Ld5Ec",
        "colab_type": "code",
        "colab": {}
      },
      "source": [
        "from sklearn.model_selection import train_test_split"
      ],
      "execution_count": 0,
      "outputs": []
    },
    {
      "cell_type": "code",
      "metadata": {
        "id": "dHE4bsFOeFuY",
        "colab_type": "code",
        "colab": {}
      },
      "source": [
        "from sklearn.metrics import classification_report"
      ],
      "execution_count": 0,
      "outputs": []
    },
    {
      "cell_type": "code",
      "metadata": {
        "id": "rpAqr9l1eRQ1",
        "colab_type": "code",
        "colab": {}
      },
      "source": [
        "from sklearn.metrics import accuracy_score"
      ],
      "execution_count": 0,
      "outputs": []
    },
    {
      "cell_type": "code",
      "metadata": {
        "id": "aKqYLk08ebDy",
        "colab_type": "code",
        "colab": {}
      },
      "source": [
        ""
      ],
      "execution_count": 0,
      "outputs": []
    }
  ]
}