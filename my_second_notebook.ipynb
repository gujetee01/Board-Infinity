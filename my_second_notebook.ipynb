{
  "nbformat": 4,
  "nbformat_minor": 0,
  "metadata": {
    "colab": {
      "name": "my second notebook.ipynb",
      "provenance": [],
      "authorship_tag": "ABX9TyMmBPJIE2XyT9hsJMAG6Vzn",
      "include_colab_link": true
    },
    "kernelspec": {
      "name": "python3",
      "display_name": "Python 3"
    },
    "accelerator": "GPU"
  },
  "cells": [
    {
      "cell_type": "markdown",
      "metadata": {
        "id": "view-in-github",
        "colab_type": "text"
      },
      "source": [
        "<a href=\"https://colab.research.google.com/github/gujetee01/Board-Infinity/blob/master/my_second_notebook.ipynb\" target=\"_parent\"><img src=\"https://colab.research.google.com/assets/colab-badge.svg\" alt=\"Open In Colab\"/></a>"
      ]
    },
    {
      "cell_type": "code",
      "metadata": {
        "id": "j6G6L2r2Ng8z",
        "colab_type": "code",
        "colab": {}
      },
      "source": [
        ""
      ],
      "execution_count": 0,
      "outputs": []
    },
    {
      "cell_type": "markdown",
      "metadata": {
        "id": "TREOWG3tN92J",
        "colab_type": "text"
      },
      "source": [
        "My Name is Nilesh Gujetee\n",
        "I have completed my BSCIT, post that I did my Masters in management in marketing \n",
        "than I got placement in exide industries ltd as a sales executive\n",
        "in that I have 2.5yrs of experience\n",
        "\n"
      ]
    },
    {
      "cell_type": "code",
      "metadata": {
        "id": "0Mtn7KuBPI7m",
        "colab_type": "code",
        "colab": {}
      },
      "source": [
        ""
      ],
      "execution_count": 0,
      "outputs": []
    },
    {
      "cell_type": "markdown",
      "metadata": {
        "id": "cWOa5XsgPOzo",
        "colab_type": "text"
      },
      "source": [
        "I want to add to my skill which will help me on grow in the same stream as well if i got a good opportunity in data analystics then i would like to change as this field is growing and i always wanted to do something which will connect to my graduation degree"
      ]
    },
    {
      "cell_type": "code",
      "metadata": {
        "id": "YAuF5PUBPrVf",
        "colab_type": "code",
        "colab": {}
      },
      "source": [
        "firstname = 'Nilesh'"
      ],
      "execution_count": 0,
      "outputs": []
    },
    {
      "cell_type": "code",
      "metadata": {
        "id": "isPIiXvwP11V",
        "colab_type": "code",
        "colab": {}
      },
      "source": [
        "lastname = 'Gujetee'"
      ],
      "execution_count": 0,
      "outputs": []
    },
    {
      "cell_type": "code",
      "metadata": {
        "id": "wRtlZQ4gP_19",
        "colab_type": "code",
        "colab": {}
      },
      "source": [
        "cityname = 'Mumbai'"
      ],
      "execution_count": 0,
      "outputs": []
    },
    {
      "cell_type": "code",
      "metadata": {
        "id": "1l-QpisNQDtu",
        "colab_type": "code",
        "colab": {}
      },
      "source": [
        "age = '27'"
      ],
      "execution_count": 0,
      "outputs": []
    },
    {
      "cell_type": "code",
      "metadata": {
        "id": "kVvuGYw9QJpA",
        "colab_type": "code",
        "colab": {}
      },
      "source": [
        "height = '175'\n",
        "tenth = '65.23'\n",
        "tweath = '71.33'"
      ],
      "execution_count": 0,
      "outputs": []
    },
    {
      "cell_type": "code",
      "metadata": {
        "id": "MrbKlBCmQm9s",
        "colab_type": "code",
        "colab": {}
      },
      "source": [
        "favourite_numbers = (9,12.33,22,44,76.56)"
      ],
      "execution_count": 0,
      "outputs": []
    },
    {
      "cell_type": "code",
      "metadata": {
        "id": "YhE-Hvf4Spqh",
        "colab_type": "code",
        "colab": {}
      },
      "source": [
        "my_friends = ('nilesh', 'haresh', 'mahendra','ankita','mukesh')"
      ],
      "execution_count": 0,
      "outputs": []
    },
    {
      "cell_type": "code",
      "metadata": {
        "id": "iheJS6RuTMtq",
        "colab_type": "code",
        "colab": {
          "base_uri": "https://localhost:8080/",
          "height": 34
        },
        "outputId": "f40a856a-bbb3-4665-ec28-4a40503fee31"
      },
      "source": [
        "print(my_friends)"
      ],
      "execution_count": 16,
      "outputs": [
        {
          "output_type": "stream",
          "text": [
            "('nilesh', 'haresh', 'mahendra', 'ankita', 'mukesh')\n"
          ],
          "name": "stdout"
        }
      ]
    },
    {
      "cell_type": "code",
      "metadata": {
        "id": "EcAYjRqdTTvF",
        "colab_type": "code",
        "colab": {
          "base_uri": "https://localhost:8080/",
          "height": 34
        },
        "outputId": "19c60003-b9cb-4dfc-d8d9-c027e1403c70"
      },
      "source": [
        "print(my_friends[0])"
      ],
      "execution_count": 17,
      "outputs": [
        {
          "output_type": "stream",
          "text": [
            "nilesh\n"
          ],
          "name": "stdout"
        }
      ]
    },
    {
      "cell_type": "code",
      "metadata": {
        "id": "2WRQ2Pp7V4rz",
        "colab_type": "code",
        "colab": {
          "base_uri": "https://localhost:8080/",
          "height": 34
        },
        "outputId": "8f40128d-cff2-4a2a-a2fc-8cb42a66e826"
      },
      "source": [
        "print(favourite_numbers[2])"
      ],
      "execution_count": 18,
      "outputs": [
        {
          "output_type": "stream",
          "text": [
            "22\n"
          ],
          "name": "stdout"
        }
      ]
    },
    {
      "cell_type": "code",
      "metadata": {
        "id": "cV6mHr1IWFfj",
        "colab_type": "code",
        "colab": {}
      },
      "source": [
        "myself = {'date of birth' : '18 th jan 1993', 'favouritecolor' : 'blue', 'age' : 27, 'gender': 'Male', 'name' : 'nilesh gujetee', 'favouritesong' : 'tere bin'}"
      ],
      "execution_count": 0,
      "outputs": []
    },
    {
      "cell_type": "code",
      "metadata": {
        "id": "7GoPE18PXePM",
        "colab_type": "code",
        "colab": {
          "base_uri": "https://localhost:8080/",
          "height": 34
        },
        "outputId": "5e28d50a-d338-49e9-e485-d917a31baf89"
      },
      "source": [
        "myself['name']"
      ],
      "execution_count": 28,
      "outputs": [
        {
          "output_type": "execute_result",
          "data": {
            "text/plain": [
              "'nilesh gujetee'"
            ]
          },
          "metadata": {
            "tags": []
          },
          "execution_count": 28
        }
      ]
    },
    {
      "cell_type": "code",
      "metadata": {
        "id": "BkG3HEj1X9DX",
        "colab_type": "code",
        "colab": {
          "base_uri": "https://localhost:8080/",
          "height": 34
        },
        "outputId": "5e417623-4e13-4924-de59-08483b6e4f13"
      },
      "source": [
        "myself['gender']"
      ],
      "execution_count": 29,
      "outputs": [
        {
          "output_type": "execute_result",
          "data": {
            "text/plain": [
              "'Male'"
            ]
          },
          "metadata": {
            "tags": []
          },
          "execution_count": 29
        }
      ]
    },
    {
      "cell_type": "code",
      "metadata": {
        "id": "MKCjALuTYwPu",
        "colab_type": "code",
        "colab": {}
      },
      "source": [
        "myself['vegetarian']=False"
      ],
      "execution_count": 0,
      "outputs": []
    },
    {
      "cell_type": "code",
      "metadata": {
        "id": "_AlpAfDuZ_TP",
        "colab_type": "code",
        "colab": {
          "base_uri": "https://localhost:8080/",
          "height": 136
        },
        "outputId": "15c9151b-5880-4e2b-c988-ed753b9b2372"
      },
      "source": [
        "myself"
      ],
      "execution_count": 34,
      "outputs": [
        {
          "output_type": "execute_result",
          "data": {
            "text/plain": [
              "{'age': 27,\n",
              " 'date of birth': '18 th jan 1993',\n",
              " 'favouritecolor': 'blue',\n",
              " 'favouritesong': 'tere bin',\n",
              " 'gender': 'Male',\n",
              " 'name': 'nilesh gujetee',\n",
              " 'vegetarian': False}"
            ]
          },
          "metadata": {
            "tags": []
          },
          "execution_count": 34
        }
      ]
    },
    {
      "cell_type": "code",
      "metadata": {
        "id": "geXVSr8vd0UH",
        "colab_type": "code",
        "colab": {}
      },
      "source": [
        ""
      ],
      "execution_count": 0,
      "outputs": []
    }
  ]
}