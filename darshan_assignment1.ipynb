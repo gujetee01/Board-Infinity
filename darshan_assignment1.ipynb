{
  "nbformat": 4,
  "nbformat_minor": 0,
  "metadata": {
    "colab": {
      "name": "darshan assignment1.ipynb",
      "provenance": [],
      "authorship_tag": "ABX9TyOK3wQLeGo7pCFLABkl5Pbu",
      "include_colab_link": true
    },
    "kernelspec": {
      "name": "python3",
      "display_name": "Python 3"
    }
  },
  "cells": [
    {
      "cell_type": "markdown",
      "metadata": {
        "id": "view-in-github",
        "colab_type": "text"
      },
      "source": [
        "<a href=\"https://colab.research.google.com/github/gujetee01/Board-Infinity/blob/master/darshan_assignment1.ipynb\" target=\"_parent\"><img src=\"https://colab.research.google.com/assets/colab-badge.svg\" alt=\"Open In Colab\"/></a>"
      ]
    },
    {
      "cell_type": "code",
      "metadata": {
        "id": "BA_nYNQ4hz4U",
        "colab_type": "code",
        "colab": {}
      },
      "source": [
        "import math as m"
      ],
      "execution_count": 0,
      "outputs": []
    },
    {
      "cell_type": "code",
      "metadata": {
        "id": "djxSVPE-i0ed",
        "colab_type": "code",
        "outputId": "7fe2d3d4-055b-443b-c5c4-3742dc12421e",
        "colab": {
          "base_uri": "https://localhost:8080/",
          "height": 85
        }
      },
      "source": [
        "print(\"Enter radius of circle to calculate area\")\n",
        "a=int(input())\n",
        "print(type(a))\n",
        "area=float(m.pi*a*a)\n",
        "print(area)\n"
      ],
      "execution_count": 0,
      "outputs": [
        {
          "output_type": "stream",
          "text": [
            "Enter radius of circle to calculate area\n",
            "2\n",
            "<class 'int'>\n",
            "12.566370614359172\n"
          ],
          "name": "stdout"
        }
      ]
    },
    {
      "cell_type": "code",
      "metadata": {
        "id": "cXVXwD8Bi_DB",
        "colab_type": "code",
        "outputId": "9c9c8a39-a65a-4ff9-b01e-d7876ac756da",
        "colab": {
          "base_uri": "https://localhost:8080/",
          "height": 68
        }
      },
      "source": [
        "first=input('First Name')\n",
        "last = input(\"last name\")\n",
        "\n",
        "print(first[::-1]+\" \"+last[::-1])\n",
        "\n",
        "\n",
        " \n"
      ],
      "execution_count": 0,
      "outputs": [
        {
          "output_type": "stream",
          "text": [
            "First Namenilesh\n",
            "last nameharesh\n",
            "hselin hserah\n"
          ],
          "name": "stdout"
        }
      ]
    },
    {
      "cell_type": "code",
      "metadata": {
        "id": "tk3RjN6jxFUm",
        "colab_type": "code",
        "outputId": "203aae8e-d1b8-48b4-e973-1b0d79af08c8",
        "colab": {
          "base_uri": "https://localhost:8080/",
          "height": 51
        }
      },
      "source": [
        "number=int(input(\"Enter a number\"))\n",
        "\n",
        "if number%3==0:\n",
        "  print(\"This number is divisible by 3\")\n",
        "else:\n",
        "  print(\"This number is not divisible by 3\")"
      ],
      "execution_count": 0,
      "outputs": [
        {
          "output_type": "stream",
          "text": [
            "Enter a number4\n",
            "This number is not divisible by 3\n"
          ],
          "name": "stdout"
        }
      ]
    },
    {
      "cell_type": "code",
      "metadata": {
        "id": "cS1Kv8pZZcpC",
        "colab_type": "code",
        "outputId": "934be62e-1ad8-404b-daf9-7ed753b2bf23",
        "colab": {
          "base_uri": "https://localhost:8080/",
          "height": 34
        }
      },
      "source": [
        "mylist=[12, 4.25, 89, 3.02, -65.23, -7.2, 6.3]\n",
        "\n",
        "print(\"adding the list number\" + \" \"+ str(m.fsum(mylist)))\n"
      ],
      "execution_count": 0,
      "outputs": [
        {
          "output_type": "stream",
          "text": [
            "adding the list number 42.13999999999999\n"
          ],
          "name": "stdout"
        }
      ]
    },
    {
      "cell_type": "code",
      "metadata": {
        "id": "KXYixe4qyhbH",
        "colab_type": "code",
        "outputId": "10c41f70-90fc-424a-cecb-90dd2133800d",
        "colab": {
          "base_uri": "https://localhost:8080/",
          "height": 34
        }
      },
      "source": [
        "x=10\n",
        "y=-23\n",
        "print(\"sign change\" + \" \" + str(m.copysign(x,y)))"
      ],
      "execution_count": 0,
      "outputs": [
        {
          "output_type": "stream",
          "text": [
            "sign change -10.0\n"
          ],
          "name": "stdout"
        }
      ]
    },
    {
      "cell_type": "code",
      "metadata": {
        "id": "ynSvlzsuzloF",
        "colab_type": "code",
        "outputId": "c63e8723-9f72-4e32-9534-983ba65fcbb4",
        "colab": {
          "base_uri": "https://localhost:8080/",
          "height": 34
        }
      },
      "source": [
        "print(\"absolute value\" + \" \" + str(m.fabs(-23)))"
      ],
      "execution_count": 0,
      "outputs": [
        {
          "output_type": "stream",
          "text": [
            "absolute value 23.0\n"
          ],
          "name": "stdout"
        }
      ]
    },
    {
      "cell_type": "code",
      "metadata": {
        "id": "Y-6AZhAv0zeK",
        "colab_type": "code",
        "outputId": "e08eb1cb-5692-401a-d4d5-8998414b17e6",
        "colab": {
          "base_uri": "https://localhost:8080/",
          "height": 34
        }
      },
      "source": [
        "print('The value of 5^e: ' + str(m.exp(5)))"
      ],
      "execution_count": 0,
      "outputs": [
        {
          "output_type": "stream",
          "text": [
            "The value of 5^e: 148.4131591025766\n"
          ],
          "name": "stdout"
        }
      ]
    },
    {
      "cell_type": "code",
      "metadata": {
        "id": "ehQmNpUB1qxH",
        "colab_type": "code",
        "outputId": "bd1ec390-ef41-473d-9436-59170fe4b54a",
        "colab": {
          "base_uri": "https://localhost:8080/",
          "height": 34
        }
      },
      "source": [
        "print('The value of Sin(60 degree): ' + str(m.sin(m.radians(60))))"
      ],
      "execution_count": 0,
      "outputs": [
        {
          "output_type": "stream",
          "text": [
            "The value of Sin(60 degree): 0.8660254037844386\n"
          ],
          "name": "stdout"
        }
      ]
    },
    {
      "cell_type": "code",
      "metadata": {
        "id": "uR5Rd4gS1494",
        "colab_type": "code",
        "colab": {}
      },
      "source": [
        ""
      ],
      "execution_count": 0,
      "outputs": []
    }
  ]
}